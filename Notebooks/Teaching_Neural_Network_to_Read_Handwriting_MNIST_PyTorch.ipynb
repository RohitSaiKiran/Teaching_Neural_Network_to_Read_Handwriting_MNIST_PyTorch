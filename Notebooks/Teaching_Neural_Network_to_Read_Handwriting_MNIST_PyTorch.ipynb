{
 "cells": [
  {
   "cell_type": "markdown",
   "id": "b002fe43",
   "metadata": {},
   "source": [
    "# Teaching a Neural Network to Read Handwriting — MNIST Digit Classifier in PyTorch  \n",
    "\n",
    "_Deep Learning · Neural Networks · PyTorch · Computer Vision · Image Classification_  \n",
    "\n",
    "---\n",
    "\n",
    "## 📌 Project Overview\n",
    "Handwritten digit recognition is a **classic problem in computer vision and deep learning**, forming the foundation for many real-world AI systems.  \n",
    "In this project, a **fully connected neural network** is implemented from scratch using **PyTorch** to classify digits (0–9) from the **MNIST dataset**.  \n",
    "\n",
    "The goal is to demonstrate an **end-to-end deep learning pipeline** — from data preprocessing to evaluation and visualization — in a clean, professional, and reproducible way.  \n",
    "\n",
    "---\n",
    "\n",
    "## 🎯 Objectives (What You’ll See)\n",
    "- Load and preprocess the MNIST dataset  \n",
    "- Build a **multi-layer neural network** in PyTorch  \n",
    "- Train the model and monitor **loss curves**  \n",
    "- Evaluate performance with **accuracy metrics**  \n",
    "- Visualize predictions on unseen test images  \n",
    "- Summarize results and insights  \n",
    "\n",
    "---\n",
    "\n",
    "## 📂 Dataset Information\n",
    "- **Name:** MNIST (Modified National Institute of Standards and Technology)  \n",
    "- **Size:** 70,000 grayscale images of digits (60,000 train + 10,000 test)  \n",
    "- **Image Dimensions:** 28 × 28 pixels  \n",
    "- **Classes:** 10 (digits 0–9)  \n",
    "- **Access:** Available directly via `torchvision.datasets.MNIST` in PyTorch  \n",
    "\n",
    "---"
   ]
  },
  {
   "cell_type": "markdown",
   "id": "db658ba9",
   "metadata": {},
   "source": [
    "## 1. Import Dependencies"
   ]
  },
  {
   "cell_type": "code",
   "execution_count": 1,
   "id": "bd41f7d6",
   "metadata": {},
   "outputs": [],
   "source": [
    "import torch\n",
    "import torch.nn as nn\n",
    "import torch.optim as optim\n",
    "import matplotlib.pyplot as plt\n",
    "from torchvision import datasets\n",
    "from torch.utils.data import TensorDataset, DataLoader"
   ]
  },
  {
   "cell_type": "markdown",
   "id": "360c2950",
   "metadata": {},
   "source": [
    "## 2. Dataset Preparation"
   ]
  },
  {
   "cell_type": "code",
   "execution_count": 2,
   "id": "78ceaed0",
   "metadata": {},
   "outputs": [
    {
     "name": "stdout",
     "output_type": "stream",
     "text": [
      "Train images: torch.Size([60000, 784])\n",
      "Test images: torch.Size([10000, 784])\n"
     ]
    }
   ],
   "source": [
    "# Download and preprocess MNIST\n",
    "data_root = '/tmp/data'\n",
    "\n",
    "train_dataset = datasets.MNIST(root=data_root, train=True, download=True)\n",
    "test_dataset = datasets.MNIST(root=data_root, train=False, download=True)\n",
    "\n",
    "# Normalize pixel values and flatten (28x28 → 784)\n",
    "train_images = train_dataset.data.reshape(60000, 28*28).to(torch.float32) / 255\n",
    "test_images = test_dataset.data.reshape(10000, 28*28).to(torch.float32) / 255\n",
    "\n",
    "train_labels = train_dataset.targets\n",
    "test_labels = test_dataset.targets\n",
    "\n",
    "print(f\"Train images: {train_images.shape}\")\n",
    "print(f\"Test images: {test_images.shape}\")"
   ]
  },
  {
   "cell_type": "markdown",
   "id": "00a8a6c1",
   "metadata": {},
   "source": [
    "## 3. Neural Network Architecture"
   ]
  },
  {
   "cell_type": "code",
   "execution_count": 3,
   "id": "78fb2ca0",
   "metadata": {},
   "outputs": [
    {
     "name": "stdout",
     "output_type": "stream",
     "text": [
      "SimpleNN(\n",
      "  (model): Sequential(\n",
      "    (0): Linear(in_features=784, out_features=128, bias=True)\n",
      "    (1): ReLU()\n",
      "    (2): Linear(in_features=128, out_features=64, bias=True)\n",
      "    (3): ReLU()\n",
      "    (4): Linear(in_features=64, out_features=10, bias=True)\n",
      "  )\n",
      ")\n"
     ]
    }
   ],
   "source": [
    "class SimpleNN(nn.Module):\n",
    "    def __init__(self):\n",
    "        super(SimpleNN, self).__init__()\n",
    "        self.model = nn.Sequential(\n",
    "            nn.Linear(784, 128),\n",
    "            nn.ReLU(),\n",
    "            nn.Linear(128, 64),\n",
    "            nn.ReLU(),\n",
    "            nn.Linear(64, 10),\n",
    "        )\n",
    "\n",
    "    def forward(self, x):\n",
    "        return self.model(x)\n",
    "\n",
    "model = SimpleNN()\n",
    "print(model)"
   ]
  },
  {
   "cell_type": "markdown",
   "id": "e86a22f9",
   "metadata": {},
   "source": [
    "## 4. Loss Function & Optimizer"
   ]
  },
  {
   "cell_type": "code",
   "execution_count": 4,
   "id": "d4f4e325",
   "metadata": {},
   "outputs": [
    {
     "name": "stdout",
     "output_type": "stream",
     "text": [
      "Model compiled: CrossEntropyLoss + Adam optimizer\n"
     ]
    }
   ],
   "source": [
    "criterion = nn.CrossEntropyLoss()\n",
    "optimizer = optim.Adam(model.parameters(), lr=0.001)\n",
    "print(\"Model compiled: CrossEntropyLoss + Adam optimizer\")"
   ]
  },
  {
   "cell_type": "markdown",
   "id": "e214001e",
   "metadata": {},
   "source": [
    "## 5. Training the Model"
   ]
  },
  {
   "cell_type": "code",
   "execution_count": 5,
   "id": "b84c8a1e",
   "metadata": {},
   "outputs": [
    {
     "name": "stdout",
     "output_type": "stream",
     "text": [
      "Epoch [1/5], Loss: 0.3393\n",
      "Epoch [2/5], Loss: 0.1398\n",
      "Epoch [3/5], Loss: 0.0968\n",
      "Epoch [4/5], Loss: 0.0740\n",
      "Epoch [5/5], Loss: 0.0587\n"
     ]
    }
   ],
   "source": [
    "train_tensor_dataset = TensorDataset(train_images, train_labels)\n",
    "train_loader = DataLoader(train_tensor_dataset, batch_size=64, shuffle=True)\n",
    "\n",
    "epochs = 5\n",
    "train_losses = []\n",
    "\n",
    "for epoch in range(epochs):\n",
    "    running_loss = 0.0\n",
    "    for images, labels in train_loader:\n",
    "        outputs = model(images)\n",
    "        loss = criterion(outputs, labels)\n",
    "\n",
    "        optimizer.zero_grad()\n",
    "        loss.backward()\n",
    "        optimizer.step()\n",
    "\n",
    "        running_loss += loss.item()\n",
    "    \n",
    "    avg_loss = running_loss / len(train_loader)\n",
    "    train_losses.append(avg_loss)\n",
    "    print(f\"Epoch [{epoch+1}/{epochs}], Loss: {avg_loss:.4f}\")"
   ]
  },
  {
   "cell_type": "markdown",
   "id": "e8cb9405",
   "metadata": {},
   "source": [
    "## 6. Training Loss Curve"
   ]
  },
  {
   "cell_type": "code",
   "execution_count": 6,
   "id": "22cc205a",
   "metadata": {},
   "outputs": [
    {
     "name": "stderr",
     "output_type": "stream",
     "text": [
      "/Users/rohitsaikiran/miniforge3/lib/python3.12/site-packages/IPython/core/pylabtools.py:170: UserWarning: Glyph 128201 (\\N{CHART WITH DOWNWARDS TREND}) missing from font(s) DejaVu Sans.\n",
      "  fig.canvas.print_figure(bytes_io, **kw)\n"
     ]
    },
    {
     "data": {
      "image/png": "[encoded data removed]",
      "text/plain": [
       "<Figure size 640x480 with 1 Axes>"
      ]
     },
     "metadata": {},
     "output_type": "display_data"
    }
   ],
   "source": [
    "plt.plot(range(1, epochs+1), train_losses, marker='o')\n",
    "plt.title(\"📉 Training Loss Curve\")\n",
    "plt.xlabel(\"Epoch\")\n",
    "plt.ylabel(\"Loss\")\n",
    "plt.grid(True)\n",
    "plt.show()"
   ]
  },
  {
   "cell_type": "markdown",
   "id": "0e558269",
   "metadata": {},
   "source": [
    "## 7. Model Evaluation"
   ]
  },
  {
   "cell_type": "code",
   "execution_count": 7,
   "id": "e605b387",
   "metadata": {},
   "outputs": [
    {
     "name": "stdout",
     "output_type": "stream",
     "text": [
      "✅ Test Accuracy: 97.61%\n"
     ]
    }
   ],
   "source": [
    "test_tensor_dataset = TensorDataset(test_images, test_labels)\n",
    "test_loader = DataLoader(test_tensor_dataset, batch_size=64, shuffle=False)\n",
    "\n",
    "correct = 0\n",
    "total = 0\n",
    "with torch.no_grad():\n",
    "    for images, labels in test_loader:\n",
    "        outputs = model(images)  \n",
    "        _, predicted = torch.max(outputs, 1)  # ✅ works on logits\n",
    "        total += labels.size(0)\n",
    "        correct += (predicted == labels).sum().item()\n",
    "\n",
    "accuracy = 100 * correct / total\n",
    "print(f\"✅ Test Accuracy: {accuracy:.2f}%\")"
   ]
  },
  {
   "cell_type": "markdown",
   "id": "a4c9d93a",
   "metadata": {},
   "source": [
    "## 8. Predictions on Sample Images"
   ]
  },
  {
   "cell_type": "code",
   "execution_count": 8,
   "id": "d41d1fb5",
   "metadata": {},
   "outputs": [
    {
     "data": {
      "image/png": "[encoded data removed]",
      "text/plain": [
       "<Figure size 1200x500 with 10 Axes>"
      ]
     },
     "metadata": {},
     "output_type": "display_data"
    }
   ],
   "source": [
    "fig, axes = plt.subplots(2, 5, figsize=(12, 5))\n",
    "for i, ax in enumerate(axes.flat):\n",
    "    image = test_images[i].reshape(28, 28)\n",
    "    label = test_labels[i].item()\n",
    "\n",
    "    with torch.no_grad():\n",
    "        pred = torch.argmax(model(test_images[i].unsqueeze(0))).item()\n",
    "\n",
    "    ax.imshow(image, cmap=\"gray\")\n",
    "    ax.set_title(f\"True:{label}, Pred:{pred}\")\n",
    "    ax.axis(\"off\")\n",
    "\n",
    "plt.show()"
   ]
  },
  {
   "cell_type": "markdown",
   "id": "8643ad97",
   "metadata": {},
   "source": [
    "## 9. Results & Insights"
   ]
  },
  {
   "cell_type": "markdown",
   "id": "f07e942e",
   "metadata": {},
   "source": [
    "- The neural network achieved **97.6% accuracy** on the MNIST test set after 5 epochs.  \n",
    "- The training loss curve dropped consistently from **0.34 → 0.05**, showing smooth convergence.  \n",
    "- Predictions on unseen samples were highly accurate, with only minor confusions (e.g., **5 vs 6**).  \n",
    "\n",
    "⚡ Potential improvements include:  \n",
    "- Training for more epochs (10–15) to push accuracy closer to **98%**.  \n",
    "- Increasing model capacity (more layers or neurons).  \n",
    "- Using **Convolutional Neural Networks (CNNs)** for further performance (99%+).  \n",
    "- Adding regularization (Dropout, Batch Normalization) for robustness.  "
   ]
  },
  {
   "cell_type": "markdown",
   "id": "203aa95e",
   "metadata": {},
   "source": [
    "---\n",
    "### Author\n",
    "**Rohit Ravula**  \n",
    "📧 **Email:** [rohitsaikiran.r@gmail.com](mailto:rohitsaikiran.r@gmail.com)  \n",
    "🐙 **GitHub:** [@Rohit-Sai-Kiran](https://github.com/RohitSaiKiran)\n",
    "\n",
    "---"
   ]
  },
  {
   "cell_type": "markdown",
   "id": "661036b1",
   "metadata": {},
   "source": []
  }
 ],
 "metadata": {
  "kernelspec": {
   "display_name": "base",
   "language": "python",
   "name": "python3"
  },
  "language_info": {
   "codemirror_mode": {
    "name": "ipython",
    "version": 3
   },
   "file_extension": ".py",
   "mimetype": "text/x-python",
   "name": "python",
   "nbconvert_exporter": "python",
   "pygments_lexer": "ipython3",
   "version": "3.12.10"
  }
 },
 "nbformat": 4,
 "nbformat_minor": 5
}
